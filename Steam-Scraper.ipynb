{
 "cells": [
  {
   "cell_type": "markdown",
   "metadata": {},
   "source": [
    "# Loading Libraries"
   ]
  },
  {
   "cell_type": "code",
   "execution_count": 7,
   "metadata": {
    "executionInfo": {
     "elapsed": 1027,
     "status": "ok",
     "timestamp": 1602891410865,
     "user": {
      "displayName": "Deepan N",
      "photoUrl": "https://lh3.googleusercontent.com/a-/AOh14GgfPHrIqxJtgEY0aPhDw7Vc34z1iuqE4PkAUBLB=s64",
      "userId": "03515591250037425569"
     },
     "user_tz": -330
    },
    "id": "wp8UQBL3cCHO"
   },
   "outputs": [],
   "source": [
    "from urllib.request import urlopen\n",
    "from urllib.parse import urlparse\n",
    "import urllib\n",
    "from bs4 import BeautifulSoup\n",
    "import requests\n",
    "import pandas as pd\n",
    "import sys\n",
    "import time\n",
    "import requests\n",
    "from lxml import html\n",
    "import sys\n",
    "import os\n",
    "from google.colab import drive\n"
   ]
  },
  {
   "cell_type": "markdown",
   "metadata": {},
   "source": [
    "# Scraping all available game urls from Steam"
   ]
  },
  {
   "cell_type": "code",
   "execution_count": null,
   "metadata": {
    "id": "OrLnZVSFc5LK"
   },
   "outputs": [],
   "source": [
    "urlss=[]\n",
    "opener = urllib.request.build_opener()\n",
    "opener.addheaders = [('User-agent', 'Mozilla/5.0 (Windows NT 10.0; Win64; x64) AppleWebKit/537.36 (KHTML, like Gecko) Chrome/85.0.4183.102 Safari/537.36')]\n",
    "urllib.request.install_opener(opener)\n",
    "url='https://store.steampowered.com/search/?sort_by=&sort_order=0&page='\n",
    "for i in range(3240):\n",
    "  try:\n",
    "    response = urllib.request.urlopen(url+str(i))\n",
    "    soup = BeautifulSoup(response, 'html.parser')\n",
    "    raw_urls = soup.find('div', attrs={'id': 'search_resultsRows'})\n",
    "    raw_urls = raw_urls.find_all('a')\n",
    "    for j in raw_urls:\n",
    "      urlss.append(j['href'])\n",
    "    print(url+str(i))\n",
    "  except:\n",
    "    print(url+str(i))\n",
    "    print(str(sys.exc_info()))\n",
    "df = pd.DataFrame(urlss,columns =['urls'])\n",
    "df.to_csv('urls.csv',index=False)"
   ]
  },
  {
   "cell_type": "code",
   "execution_count": 8,
   "metadata": {
    "executionInfo": {
     "elapsed": 1805,
     "status": "ok",
     "timestamp": 1602891413595,
     "user": {
      "displayName": "Deepan N",
      "photoUrl": "https://lh3.googleusercontent.com/a-/AOh14GgfPHrIqxJtgEY0aPhDw7Vc34z1iuqE4PkAUBLB=s64",
      "userId": "03515591250037425569"
     },
     "user_tz": -330
    },
    "id": "klezrq1OwBkA"
   },
   "outputs": [],
   "source": [
    "# urlss=pd.read_csv('urls.csv')\n",
    "urll='https://raw.githubusercontent.com/junkuse/amzrepo/master/urls.csv'\n",
    "urlss=pd.read_csv(urll)\n",
    "urlss=list(urlss['urls'])"
   ]
  },
  {
   "cell_type": "code",
   "execution_count": 9,
   "metadata": {
    "colab": {
     "base_uri": "https://localhost:8080/",
     "height": 34
    },
    "executionInfo": {
     "elapsed": 1072,
     "status": "ok",
     "timestamp": 1602891414071,
     "user": {
      "displayName": "Deepan N",
      "photoUrl": "https://lh3.googleusercontent.com/a-/AOh14GgfPHrIqxJtgEY0aPhDw7Vc34z1iuqE4PkAUBLB=s64",
      "userId": "03515591250037425569"
     },
     "user_tz": -330
    },
    "id": "vhC-z2BPsg__",
    "outputId": "b08288f1-0bb9-4daf-ce1a-ad5fb3965d05"
   },
   "outputs": [
    {
     "data": {
      "text/plain": [
       "81025"
      ]
     },
     "execution_count": 9,
     "metadata": {
      "tags": []
     },
     "output_type": "execute_result"
    }
   ],
   "source": [
    "len(urlss)"
   ]
  },
  {
   "cell_type": "markdown",
   "metadata": {},
   "source": [
    "# Scraping All Game Data from Scraped URLS"
   ]
  },
  {
   "cell_type": "code",
   "execution_count": 10,
   "metadata": {
    "executionInfo": {
     "elapsed": 1523,
     "status": "ok",
     "timestamp": 1602891416945,
     "user": {
      "displayName": "Deepan N",
      "photoUrl": "https://lh3.googleusercontent.com/a-/AOh14GgfPHrIqxJtgEY0aPhDw7Vc34z1iuqE4PkAUBLB=s64",
      "userId": "03515591250037425569"
     },
     "user_tz": -330
    },
    "id": "5PeMubqtnNEg"
   },
   "outputs": [],
   "source": [
    "filter = ''.join([chr(i) for i in range(1, 32)])\n",
    "cookies = {'birthtime': '568022401'}\n",
    "def cleantext(xpathh):\n",
    "  try:\n",
    "    attr = tree.xpath(xpathh)\n",
    "    attr = attr[0].text_content()\n",
    "    attr = attr.translate(str.maketrans('', '', filter))\n",
    "    return str(attr)\n",
    "  except:\n",
    "    # print(str(xpathh)+' '+str(sys.exc_info()))\n",
    "    return '-'"
   ]
  },
  {
   "cell_type": "code",
   "execution_count": 11,
   "metadata": {
    "executionInfo": {
     "elapsed": 827,
     "status": "ok",
     "timestamp": 1602891417937,
     "user": {
      "displayName": "Deepan N",
      "photoUrl": "https://lh3.googleusercontent.com/a-/AOh14GgfPHrIqxJtgEY0aPhDw7Vc34z1iuqE4PkAUBLB=s64",
      "userId": "03515591250037425569"
     },
     "user_tz": -330
    },
    "id": "WF254BfQs_qr"
   },
   "outputs": [],
   "source": [
    "games = pd.DataFrame(columns=['url','name', 'categories','img_url','user_reviews', 'all_reviews',\\\n",
    "                              'date', 'developer', 'publisher', 'price', 'requirements', 'popu_tags',\\\n",
    "                              'desc', 'full_desc', 'pegi', 'pegi_url'])"
   ]
  },
  {
   "cell_type": "code",
   "execution_count": null,
   "metadata": {
    "id": "hiVusbn5uBbJ"
   },
   "outputs": [],
   "source": [
    "count=0\n",
    "for i in urlss:\n",
    "  try:\n",
    "    print(str(count)+' '+i)\n",
    "    r = requests.get(i, cookies=cookies)\n",
    "    tree = html.fromstring(r.content)\n",
    "    try:\n",
    "      name = tree.xpath(\"//div[@class='apphub_AppName']\")\n",
    "      name=name[0].text_content()\n",
    "    except:\n",
    "      name='-'\n",
    "    categories = cleantext(\"//div[@id='category_block']\")\n",
    "    desc = cleantext(\"//div[@class='game_description_snippet']\")\n",
    "    usr_rev = cleantext(\"//div[@class='user_reviews']//div[1]//div[2]\")\n",
    "    all_rev = cleantext(\"//div[@class='rightcol']//div[2]//div[2]\")\n",
    "    date = cleantext(\"//div[@class='date']\")\n",
    "    dev = cleantext(\"//div[@id='developers_list']\")\n",
    "    pub = cleantext(\"//div[@class='block']//div[5]//div[2]//a[1]\")\n",
    "    purchase = cleantext(\"//div[contains(@class,'game_area_purchase_game')]\")\n",
    "    sys_req = cleantext(\"//div[@class='game_page_autocollapse sys_req']\")\n",
    "    pop_tags = cleantext(\"//div[@class='glance_tags popular_tags']\")\n",
    "    try:\n",
    "      game_img = tree.xpath(\"//img[@class='game_header_image_full']\")\n",
    "      game_img=game_img[0].get('src')\n",
    "    except:\n",
    "      game_img='-'\n",
    "    game_full_desc = cleantext(\"//div[@id='game_area_description']\")\n",
    "    pegi = cleantext(\"//div[@class='game_rating_details']\")\n",
    "    try:\n",
    "      soup = BeautifulSoup(str(r.content), 'html.parser')\n",
    "      raw_urls = soup.find('div', attrs={'class': 'game_rating_icon'})\n",
    "      raw_urls = raw_urls.find('img')\n",
    "      pegi_url=raw_urls['src']  \n",
    "    except:\n",
    "      pegi_url='-'\n",
    "    listt=[i,name,categories,game_img,usr_rev,all_rev,date,\n",
    "           dev,pub,purchase,sys_req,pop_tags,desc,\n",
    "           game_full_desc,pegi,pegi_url]\n",
    "    listt = pd.Series(listt, index = games.columns)\n",
    "    games = games.append(listt, ignore_index=True)\n",
    "    count=count+1\n",
    "  except:\n",
    "    pass"
   ]
  },
  {
   "cell_type": "markdown",
   "metadata": {},
   "source": [
    "# Finding Number of Unavailable Data"
   ]
  },
  {
   "cell_type": "code",
   "execution_count": 13,
   "metadata": {
    "colab": {
     "base_uri": "https://localhost:8080/",
     "height": 554
    },
    "executionInfo": {
     "elapsed": 12079150,
     "status": "ok",
     "timestamp": 1602903505275,
     "user": {
      "displayName": "Deepan N",
      "photoUrl": "https://lh3.googleusercontent.com/a-/AOh14GgfPHrIqxJtgEY0aPhDw7Vc34z1iuqE4PkAUBLB=s64",
      "userId": "03515591250037425569"
     },
     "user_tz": -330
    },
    "id": "b5kia4mTECil",
    "outputId": "d06ec5c1-a96d-4ac7-8607-43dd4dad4a4f"
   },
   "outputs": [
    {
     "name": "stdout",
     "output_type": "stream",
     "text": [
      "url\n",
      "0\n",
      "name\n",
      "1594\n",
      "categories\n",
      "2208\n",
      "img_url\n",
      "1594\n",
      "user_reviews\n",
      "1594\n",
      "all_reviews\n",
      "1595\n",
      "date\n",
      "1695\n",
      "developer\n",
      "1744\n",
      "publisher\n",
      "26980\n",
      "price\n",
      "336\n",
      "requirements\n",
      "2131\n",
      "popu_tags\n",
      "1875\n",
      "desc\n",
      "14462\n",
      "full_desc\n",
      "602\n",
      "pegi\n",
      "20270\n",
      "pegi_url\n",
      "20270\n"
     ]
    }
   ],
   "source": [
    "for i in games.columns:\n",
    "  print(i)\n",
    "  print(list(games[i]).count('-'))"
   ]
  },
  {
   "cell_type": "markdown",
   "metadata": {},
   "source": [
    "# Finding rows with more number of Unavailabe Data"
   ]
  },
  {
   "cell_type": "code",
   "execution_count": 15,
   "metadata": {
    "colab": {
     "base_uri": "https://localhost:8080/",
     "height": 34
    },
    "executionInfo": {
     "elapsed": 14585,
     "status": "ok",
     "timestamp": 1602903519877,
     "user": {
      "displayName": "Deepan N",
      "photoUrl": "https://lh3.googleusercontent.com/a-/AOh14GgfPHrIqxJtgEY0aPhDw7Vc34z1iuqE4PkAUBLB=s64",
      "userId": "03515591250037425569"
     },
     "user_tz": -330
    },
    "id": "lS4YrNP0pnVP",
    "outputId": "909847f1-2500-4f4e-81f1-42f6e8fde573"
   },
   "outputs": [
    {
     "data": {
      "text/plain": [
       "6480"
      ]
     },
     "execution_count": 15,
     "metadata": {
      "tags": []
     },
     "output_type": "execute_result"
    }
   ],
   "source": [
    "a=games\n",
    "c=0\n",
    "for ind in a.index: \n",
    "  x=0\n",
    "  for j in a.columns:\n",
    "     if (a[j][ind] != '-'):\n",
    "       x=x+1\n",
    "  if (x>13):\n",
    "    c=c+1\n",
    "c"
   ]
  },
  {
   "cell_type": "markdown",
   "metadata": {},
   "source": [
    "# Exporting as CSV and storing it in Google Drive"
   ]
  },
  {
   "cell_type": "code",
   "execution_count": 17,
   "metadata": {
    "colab": {
     "base_uri": "https://localhost:8080/",
     "height": 34
    },
    "executionInfo": {
     "elapsed": 4581,
     "status": "ok",
     "timestamp": 1602904733515,
     "user": {
      "displayName": "Deepan N",
      "photoUrl": "https://lh3.googleusercontent.com/a-/AOh14GgfPHrIqxJtgEY0aPhDw7Vc34z1iuqE4PkAUBLB=s64",
      "userId": "03515591250037425569"
     },
     "user_tz": -330
    },
    "id": "sdaLZF3T3Tol",
    "outputId": "f3eade6a-df35-457c-cf07-8acdba05e3df"
   },
   "outputs": [
    {
     "name": "stdout",
     "output_type": "stream",
     "text": [
      "Mounted at /gdrive\n"
     ]
    }
   ],
   "source": [
    "games.to_csv('games1.csv',index=False)\n",
    "drive.mount('/gdrive', force_remount=True)\n",
    "with open('/gdrive/My Drive/games1.csv', 'w') as f:\n",
    "  games.to_csv(f,index=False)"
   ]
  },
  {
   "cell_type": "markdown",
   "metadata": {},
   "source": [
    "# File Size Statistics"
   ]
  },
  {
   "cell_type": "code",
   "execution_count": 19,
   "metadata": {
    "colab": {
     "base_uri": "https://localhost:8080/",
     "height": 67
    },
    "executionInfo": {
     "elapsed": 1071,
     "status": "ok",
     "timestamp": 1602905166624,
     "user": {
      "displayName": "Deepan N",
      "photoUrl": "https://lh3.googleusercontent.com/a-/AOh14GgfPHrIqxJtgEY0aPhDw7Vc34z1iuqE4PkAUBLB=s64",
      "userId": "03515591250037425569"
     },
     "user_tz": -330
    },
    "id": "4k5Sko1BkSfM",
    "outputId": "d78ca76a-9bcd-4eb2-eb15-9e030b154b08"
   },
   "outputs": [
    {
     "name": "stdout",
     "output_type": "stream",
     "text": [
      "os.stat_result(st_mode=33188, st_ino=5111985, st_dev=51, st_nlink=1, st_uid=0, st_gid=0, st_size=52923720, st_atime=1602903514, st_mtime=1602903515, st_ctime=1602903515)\n",
      "File Size in Bytes is 52923720\n",
      "File Size in MegaBytes is 50.47199249267578\n"
     ]
    }
   ],
   "source": [
    "file_stats = os.stat('games1.csv')\n",
    "print(file_stats)\n",
    "print(f'File Size in Bytes is {file_stats.st_size}')\n",
    "print(f'File Size in MegaBytes is {file_stats.st_size / (1024 * 1024)}')"
   ]
  }
 ],
 "metadata": {
  "colab": {
   "authorship_tag": "ABX9TyMlKcDnWhOZhrIc5OlD4r5s",
   "collapsed_sections": [],
   "name": "Steam Scraper Clean.ipynb",
   "provenance": []
  },
  "kernelspec": {
   "display_name": "Python 3",
   "language": "python",
   "name": "python3"
  },
  "language_info": {
   "codemirror_mode": {
    "name": "ipython",
    "version": 3
   },
   "file_extension": ".py",
   "mimetype": "text/x-python",
   "name": "python",
   "nbconvert_exporter": "python",
   "pygments_lexer": "ipython3",
   "version": "3.8.3"
  }
 },
 "nbformat": 4,
 "nbformat_minor": 4
}
