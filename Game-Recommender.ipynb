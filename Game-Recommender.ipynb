{
 "cells": [
  {
   "cell_type": "markdown",
   "metadata": {},
   "source": [
    "# Importing Libraries"
   ]
  },
  {
   "cell_type": "code",
   "execution_count": 1,
   "metadata": {},
   "outputs": [],
   "source": [
    "from pyspark.sql import SparkSession \n",
    "from pyspark.sql.functions import *\n",
    "from pyspark.ml.feature import StringIndexer,IndexToString\n",
    "from pyspark.ml.recommendation import ALS\n",
    "from pyspark.sql import SparkSession\n",
    "from pymongo import MongoClient\n",
    "import pandas as pd "
   ]
  },
  {
   "cell_type": "markdown",
   "metadata": {},
   "source": [
    "# Initialising Spark Session"
   ]
  },
  {
   "cell_type": "code",
   "execution_count": 2,
   "metadata": {},
   "outputs": [],
   "source": [
    "spark = SparkSession.builder \\\n",
    "      .appName(\"Word count\") \\\n",
    "      .getOrCreate()\n"
   ]
  },
  {
   "cell_type": "markdown",
   "metadata": {},
   "source": [
    "# Collecting data from MongoDB Atlas Cluster"
   ]
  },
  {
   "cell_type": "code",
   "execution_count": 3,
   "metadata": {},
   "outputs": [
    {
     "name": "stdout",
     "output_type": "stream",
     "text": [
      "--- 14.41849422454834 seconds ---\n"
     ]
    }
   ],
   "source": [
    "# FETCH DATA\n",
    "start_time = time.time()\n",
    "client = MongoClient(\"MongoDB Collection URL Here\") # Collection URL Not specified for Data Security\n",
    "db = client.get_database('steam_data')\n",
    "user_like_dataa=db.user_likes.find({},{'user_id':1,'user_data':1})\n",
    "user_like_dataa=[i for i in user_like_dataa]\n",
    "df = pd.DataFrame(columns = ['user_id', 'game_id', 'rate', 'percent', 'liked']) \n",
    "for i in user_like_dataa:\n",
    "    for j in i['user_data']:\n",
    "        df = df.append({'user_id' : i['user_id'], 'game_id' : j['game_id'], 'rate':j['rate'], 'percent':j['percent'], 'liked':j['liked']},  \n",
    "                ignore_index = True) \n",
    "recom_mongo_data=df\n",
    "print(\"--- %s seconds ---\" % (time.time() - start_time))"
   ]
  },
  {
   "cell_type": "markdown",
   "metadata": {},
   "source": [
    "## Sample User data"
   ]
  },
  {
   "cell_type": "code",
   "execution_count": 4,
   "metadata": {},
   "outputs": [
    {
     "data": {
      "text/plain": [
       "{'_id': ObjectId('5fafc994336c36400e1135f3'),\n",
       " 'user_id': 1,\n",
       " 'user_data': [{'game_id': 560130, 'rate': 6, 'percent': 91, 'liked': 0},\n",
       "  {'game_id': 362490, 'rate': 5, 'percent': 92, 'liked': 1},\n",
       "  {'game_id': 6020, 'rate': 7, 'percent': 100, 'liked': 1},\n",
       "  {'game_id': 6000, 'rate': 5, 'percent': 98, 'liked': 0},\n",
       "  {'game_id': 404013, 'rate': 7, 'percent': 78, 'liked': 0},\n",
       "  {'game_id': 311210, 'rate': 8, 'percent': 97, 'liked': 0},\n",
       "  {'game_id': 221380, 'rate': 5, 'percent': 10, 'liked': 0},\n",
       "  {'game_id': 632470, 'rate': 8, 'percent': 96, 'liked': 0},\n",
       "  {'game_id': 1162130, 'rate': 6, 'percent': 70, 'liked': 1},\n",
       "  {'game_id': 311560, 'rate': 4, 'percent': 78, 'liked': 0},\n",
       "  {'game_id': 1379930, 'rate': 8, 'percent': 74, 'liked': 0},\n",
       "  {'game_id': 1071200, 'rate': 4, 'percent': 32, 'liked': 0},\n",
       "  {'game_id': 586140, 'rate': 8, 'percent': 98, 'liked': 0},\n",
       "  {'game_id': 704450, 'rate': 8, 'percent': 97, 'liked': 1},\n",
       "  {'game_id': 763890, 'rate': 2, 'percent': 10, 'liked': 0},\n",
       "  {'game_id': 454650, 'rate': 8, 'percent': 92, 'liked': 1},\n",
       "  {'game_id': 394360, 'rate': 7, 'percent': 97, 'liked': 0},\n",
       "  {'game_id': 1147660, 'rate': 6, 'percent': 49, 'liked': 1},\n",
       "  {'game_id': 386360, 'rate': 4, 'percent': 82, 'liked': 0},\n",
       "  {'game_id': 250320, 'rate': 4, 'percent': 10, 'liked': 0},\n",
       "  {'game_id': 12110, 'rate': 5, 'percent': 95, 'liked': 1},\n",
       "  {'game_id': 528200, 'rate': 5, 'percent': 86, 'liked': 1},\n",
       "  {'game_id': 859580, 'rate': 5, 'percent': 69, 'liked': 0},\n",
       "  {'game_id': 1058450, 'rate': 5, 'percent': 90, 'liked': 0},\n",
       "  {'game_id': 1253990, 'rate': 8, 'percent': 43, 'liked': 0},\n",
       "  {'game_id': 1248430, 'rate': 6, 'percent': 93, 'liked': 1},\n",
       "  {'game_id': 460790, 'rate': 8, 'percent': 93, 'liked': 0},\n",
       "  {'game_id': 814370, 'rate': 5, 'percent': 99, 'liked': 1},\n",
       "  {'game_id': 603850, 'rate': 6, 'percent': 88, 'liked': 1},\n",
       "  {'game_id': 962130, 'rate': 8, 'percent': 93, 'liked': 1},\n",
       "  {'game_id': 1222730, 'rate': 7, 'percent': 77, 'liked': 1},\n",
       "  {'game_id': 617290, 'rate': 6, 'percent': 88, 'liked': 1},\n",
       "  {'game_id': 12120, 'rate': 7, 'percent': 96, 'liked': 1},\n",
       "  {'game_id': 12110, 'rate': 6, 'percent': 97, 'liked': 0},\n",
       "  {'game_id': 1299591, 'rate': 6, 'percent': 57, 'liked': 0},\n",
       "  {'game_id': 563840, 'rate': 8, 'percent': 91, 'liked': 1},\n",
       "  {'game_id': 1351010, 'rate': 7, 'percent': 67, 'liked': 1},\n",
       "  {'game_id': 919680, 'rate': 5, 'percent': 93, 'liked': 1},\n",
       "  {'game_id': 558990, 'rate': 8, 'percent': 98, 'liked': 1},\n",
       "  {'game_id': 219740, 'rate': 2, 'percent': 10, 'liked': 0},\n",
       "  {'game_id': 1121560, 'rate': 6, 'percent': 90, 'liked': 1},\n",
       "  {'game_id': 1223060, 'rate': 6, 'percent': 75, 'liked': 0},\n",
       "  {'game_id': 1265640, 'rate': 2, 'percent': 10, 'liked': 1},\n",
       "  {'game_id': 252870, 'rate': 7, 'percent': 96, 'liked': 0},\n",
       "  {'game_id': 1016120, 'rate': 8, 'percent': 86, 'liked': 1},\n",
       "  {'game_id': 471710, 'rate': 6, 'percent': 96, 'liked': 0},\n",
       "  {'game_id': 245810, 'rate': 7, 'percent': 96, 'liked': 0},\n",
       "  {'game_id': 767560, 'rate': 7, 'percent': 62, 'liked': 0},\n",
       "  {'game_id': 257350, 'rate': 8, 'percent': 96, 'liked': 1},\n",
       "  {'game_id': 351510, 'rate': 8, 'percent': 96, 'liked': 0}]}"
      ]
     },
     "execution_count": 4,
     "metadata": {},
     "output_type": "execute_result"
    }
   ],
   "source": [
    "user_like_dataa[1]\n",
    "#should insert likes data in this format"
   ]
  },
  {
   "cell_type": "markdown",
   "metadata": {},
   "source": [
    "# Recommender Function"
   ]
  },
  {
   "cell_type": "code",
   "execution_count": 4,
   "metadata": {},
   "outputs": [],
   "source": [
    "def recom_engine(spark, df_name, column_name):\n",
    "    df = spark.createDataFrame(df_name)\n",
    "    df=df.na.drop()\n",
    "    stringIndexer = StringIndexer(inputCol=\"game_id\", outputCol=\"game_id_new\")\n",
    "    model = stringIndexer.fit(df)\n",
    "    indexed = model.transform(df)\n",
    "    train=indexed\n",
    "    rec=ALS(maxIter=10,regParam=0.01,userCol='user_id',itemCol='game_id_new',ratingCol=column_name,nonnegative=True,coldStartStrategy=\"drop\")\n",
    "    rec_model=rec.fit(train)\n",
    "    unique_games=indexed.select('game_id_new').distinct()\n",
    "    return([unique_games,indexed, rec_model, model])"
   ]
  },
  {
   "cell_type": "markdown",
   "metadata": {},
   "source": [
    "# Using model From Recommender Funciton"
   ]
  },
  {
   "cell_type": "code",
   "execution_count": 6,
   "metadata": {},
   "outputs": [],
   "source": [
    "def top_games(dataa, user_id,n):\n",
    "    a = dataa[0].alias('a')\n",
    "    indexed=dataa[1]\n",
    "    rec_model=dataa[2]\n",
    "    model=dataa[3]\n",
    "    watched_games=indexed.filter(indexed['user_id'] == user_id).select('game_id_new')\n",
    "    b=watched_games.alias('b')\n",
    "    total_games = a.join(b, a.game_id_new == b.game_id_new,how='left')\n",
    "    remaining_games=total_games.where(col(\"b.game_id_new\").isNull()).select(a.game_id_new).distinct()\n",
    "    remaining_games=remaining_games.withColumn(\"user_id\",lit(int(user_id)))\n",
    "    recommendations=rec_model.transform(remaining_games).orderBy('prediction',ascending=False).limit(n)\n",
    "    movie_title = IndexToString(inputCol=\"game_id_new\", outputCol=\"game_id\",labels=model.labels)\n",
    "    final_recommendations=movie_title.transform(recommendations)\n",
    "    return(final_recommendations.limit(n).toPandas())"
   ]
  },
  {
   "cell_type": "markdown",
   "metadata": {},
   "source": [
    "# Recommending Games\n",
    "    - Recommended based on 3 Parameters\n",
    "        - Rating Given by the user\n",
    "        - Percent of Users Liked\n",
    "        - Liking of a user"
   ]
  },
  {
   "cell_type": "code",
   "execution_count": 7,
   "metadata": {},
   "outputs": [],
   "source": [
    "by_rate=top_games(recom_engine(spark, recom_mongo_data, 'rate'), 4,10)\n",
    "by_percent=top_games(recom_engine(spark, recom_mongo_data, 'percent'), 4,10)\n",
    "by_liked=top_games(recom_engine(spark, recom_mongo_data, 'liked'), 4,10)\n"
   ]
  },
  {
   "cell_type": "code",
   "execution_count": 8,
   "metadata": {},
   "outputs": [
    {
     "name": "stdout",
     "output_type": "stream",
     "text": [
      "Prediction by Rate : ['760060', '613100', '920690', '215280', '205650', '445190', '1148590', '503580', '494840', '673610']\n",
      "Prediction by Percent : ['1179210', '774461', '418370', '947930', '1162750', '32460', '553310', '323190', '6020', '440']\n",
      "Prediction by Likes : ['1222730', '15610', '548430', '971996', '1159060', '214490', '1382220', '397540', '606150', '976730']\n"
     ]
    }
   ],
   "source": [
    "print('Prediction by Rate : '+str(list(by_rate['game_id'])))\n",
    "print('Prediction by Percent : '+str(list(by_percent['game_id'])))\n",
    "print('Prediction by Likes : '+str(list(by_liked['game_id'])))\n"
   ]
  }
 ],
 "metadata": {
  "kernelspec": {
   "display_name": "Python 3",
   "language": "python",
   "name": "python3"
  },
  "language_info": {
   "codemirror_mode": {
    "name": "ipython",
    "version": 3
   },
   "file_extension": ".py",
   "mimetype": "text/x-python",
   "name": "python",
   "nbconvert_exporter": "python",
   "pygments_lexer": "ipython3",
   "version": "3.8.3"
  }
 },
 "nbformat": 4,
 "nbformat_minor": 4
}
